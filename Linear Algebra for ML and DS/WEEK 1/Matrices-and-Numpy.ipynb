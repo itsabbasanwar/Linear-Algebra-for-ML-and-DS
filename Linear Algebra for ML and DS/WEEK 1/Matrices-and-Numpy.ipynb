{
 "cells": [
  {
   "cell_type": "markdown",
   "id": "dccb346a-7d5d-4982-9632-82e48f360698",
   "metadata": {},
   "source": [
    "# Introduction to Python Matrices and NumPy #"
   ]
  },
  {
   "cell_type": "code",
   "execution_count": 33,
   "id": "c89b5bb7-db2e-4e0c-aac3-7cbb318bea1d",
   "metadata": {},
   "outputs": [
    {
     "name": "stdout",
     "output_type": "stream",
     "text": [
      "['0.5' 'a' '25']\n"
     ]
    }
   ],
   "source": [
    "import numpy as np\n",
    "one_dimensional_arr = np.array([0.5,\"a\",25])\n",
    "print (one_dimensional_arr)"
   ]
  },
  {
   "cell_type": "code",
   "execution_count": 5,
   "id": "27aac1ec-a77b-4ca5-9152-067addc0135a",
   "metadata": {},
   "outputs": [
    {
     "name": "stdout",
     "output_type": "stream",
     "text": [
      "[1 2 3]\n"
     ]
    }
   ],
   "source": [
    "# Create and print a numpy array 'a' containing the elements 1, 2, 3.\n",
    "a = np.array([1, 2, 3])\n",
    "print(a)"
   ]
  },
  {
   "cell_type": "code",
   "execution_count": 10,
   "id": "741a2e1c-7c77-4619-b06e-de5fa556124c",
   "metadata": {},
   "outputs": [
    {
     "name": "stdout",
     "output_type": "stream",
     "text": [
      "[0 1 2]\n"
     ]
    }
   ],
   "source": [
    "# Create an array with 3 elements, starting from default number 0.\n",
    "b = np.arange(3)\n",
    "print(b)"
   ]
  },
  {
   "cell_type": "code",
   "execution_count": 11,
   "id": "f121d880-aba3-4907-98d0-7ffd032ed68a",
   "metadata": {},
   "outputs": [
    {
     "name": "stdout",
     "output_type": "stream",
     "text": [
      "[ 1  4  7 10 13 16 19]\n"
     ]
    }
   ],
   "source": [
    "# Create an array that starts from integer 1, ends at 20, incremented by 3.\n",
    "c = np.arange(1, 20, 3)\n",
    "print(c)"
   ]
  },
  {
   "cell_type": "code",
   "execution_count": 17,
   "id": "8e044987-b3dc-4495-a15c-a2796a62cf91",
   "metadata": {},
   "outputs": [
    {
     "name": "stdout",
     "output_type": "stream",
     "text": [
      "[  0  25  50  75 100]\n"
     ]
    }
   ],
   "source": [
    "lin_spaced_arr = np.linspace(0, 100, 5, dtype=int)\n",
    "print(lin_spaced_arr)"
   ]
  },
  {
   "cell_type": "code",
   "execution_count": 18,
   "id": "41cfcb1e-07ec-4a38-b7a8-25bb827b74c5",
   "metadata": {},
   "outputs": [
    {
     "name": "stdout",
     "output_type": "stream",
     "text": [
      "[0. 1. 2.]\n"
     ]
    }
   ],
   "source": [
    "b_float = np.arange(3, dtype=float)\n",
    "print(b_float)"
   ]
  },
  {
   "cell_type": "code",
   "execution_count": 22,
   "id": "aba89676-a364-4115-8d2f-e8ffac1de9a4",
   "metadata": {},
   "outputs": [
    {
     "name": "stdout",
     "output_type": "stream",
     "text": [
      "['Welcome to Math for ML and DS!']\n",
      "<U30\n"
     ]
    }
   ],
   "source": [
    "char_arr = np.array(['Welcome to Math for ML and DS!'])\n",
    "print(char_arr)\n",
    "print(char_arr.dtype) # Prints the data type of the array"
   ]
  },
  {
   "cell_type": "raw",
   "id": "823e5f0a-50e1-4898-932b-f66a998ecfa9",
   "metadata": {},
   "source": [
    "1. numpy.ones()\n",
    "Purpose: Creates a new array where all elements are set to 1.\n",
    "\n",
    "Arguments:\n",
    "shape: A tuple defining the dimensions of the array (e.g., (rows, cols)).\n",
    "dtype: Optional; specifies the data type of the array elements (default is float)."
   ]
  },
  {
   "cell_type": "code",
   "execution_count": 23,
   "id": "3b560f73-7732-4138-ba46-8cb19ab5b167",
   "metadata": {},
   "outputs": [
    {
     "name": "stdout",
     "output_type": "stream",
     "text": [
      "[[1. 1. 1.]\n",
      " [1. 1. 1.]]\n"
     ]
    }
   ],
   "source": [
    "# Create a 2x3 array of ones\n",
    "ones_array = np.ones((2, 3))\n",
    "print(ones_array)"
   ]
  },
  {
   "cell_type": "markdown",
   "id": "8fe58348-fbe1-458b-82c5-0213b653412a",
   "metadata": {},
   "source": [
    "2. numpy.zeros()\n",
    "Purpose: Creates a new array where all elements are set to 0.\n",
    "\n",
    "Arguments:\n",
    "\n",
    "shape: A tuple defining the dimensions of the array.\n",
    "dtype: Optional; specifies the data type of the array elements.\n"
   ]
  },
  {
   "cell_type": "markdown",
   "id": "3a821b68-236f-4ac4-b37c-583af75ba98a",
   "metadata": {},
   "source": [
    "2. numpy.zeros()\n",
    "Purpose: Creates a new array where all elements are set to 0.\n",
    "\n",
    "Arguments:\n",
    "\n",
    "shape: A tuple defining the dimensions of the array.\n",
    "dtype: Optional; specifies the data type of the array elements."
   ]
  },
  {
   "cell_type": "code",
   "execution_count": 26,
   "id": "3ca81c76-77d9-4a61-b67d-e8ba0f9d81fa",
   "metadata": {},
   "outputs": [
    {
     "name": "stdout",
     "output_type": "stream",
     "text": [
      "[[0 0 0 0]\n",
      " [0 0 0 0]\n",
      " [0 0 0 0]\n",
      " [0 0 0 0]]\n"
     ]
    }
   ],
   "source": [
    "# Create a 4x4 array of zeros\n",
    "zeros_array = np.zeros((4, 4), dtype=int)\n",
    "print(zeros_array)"
   ]
  },
  {
   "cell_type": "raw",
   "id": "16215711-20da-40d5-adef-46098f20256f",
   "metadata": {},
   "source": [
    "3. numpy.empty()\n",
    "Purpose: Creates a new array without initializing its elements to any particular value.\n",
    "\n",
    "Behavior: The values in the array are random junk values already present in memory.\n",
    "\n",
    "Arguments:\n",
    "\n",
    "shape: A tuple defining the dimensions of the array.\n",
    "dtype: Optional; specifies the data type of the array elements."
   ]
  },
  {
   "cell_type": "code",
   "execution_count": 29,
   "id": "cdd7dfc5-65b5-452d-951c-5a4a4a332975",
   "metadata": {},
   "outputs": [
    {
     "name": "stdout",
     "output_type": "stream",
     "text": [
      "[0. 0. 0.]\n"
     ]
    }
   ],
   "source": [
    "# Return a new array with 3 elements without initializing entries.\n",
    "empt_arr = np.empty(3)\n",
    "print(empt_arr)"
   ]
  },
  {
   "cell_type": "markdown",
   "id": "c67c9dfa-68ac-4729-9f17-230df992902a",
   "metadata": {},
   "source": [
    "4. numpy.random.rand()\n",
    "Purpose: Creates a new array with random values sampled from a uniform distribution over the interval [0, 1).\n",
    "\n",
    "Arguments:\n",
    "\n",
    "Dimensions of the array (specified directly as arguments, not in a tuple)."
   ]
  },
  {
   "cell_type": "code",
   "execution_count": 30,
   "id": "265b7794-8b83-474f-910d-9ef9c23ee15a",
   "metadata": {},
   "outputs": [
    {
     "name": "stdout",
     "output_type": "stream",
     "text": [
      "[[0.68021862 0.99476551 0.83973777]\n",
      " [0.09336887 0.90129346 0.69182717]\n",
      " [0.24579581 0.40034446 0.9003495 ]]\n"
     ]
    }
   ],
   "source": [
    "# Create a 3x3 array with random values\n",
    "random_array = np.random.rand(3, 3)\n",
    "print(random_array)"
   ]
  },
  {
   "cell_type": "markdown",
   "id": "f25317c8-1c0d-4a94-a057-d99e3618b346",
   "metadata": {},
   "source": [
    "#  Multidimensional Arrays #"
   ]
  }
 ],
 "metadata": {
  "kernelspec": {
   "display_name": "Python 3 (ipykernel)",
   "language": "python",
   "name": "python3"
  },
  "language_info": {
   "codemirror_mode": {
    "name": "ipython",
    "version": 3
   },
   "file_extension": ".py",
   "mimetype": "text/x-python",
   "name": "python",
   "nbconvert_exporter": "python",
   "pygments_lexer": "ipython3",
   "version": "3.11.7"
  }
 },
 "nbformat": 4,
 "nbformat_minor": 5
}
